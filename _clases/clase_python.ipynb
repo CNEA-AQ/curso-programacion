{
 "cells": [
  {
   "cell_type": "code",
   "execution_count": null,
   "id": "073b54aa",
   "metadata": {},
   "outputs": [],
   "source": [
    "print(\"Hola mundo\")"
   ]
  },
  {
   "cell_type": "markdown",
   "id": "194b8384",
   "metadata": {},
   "source": [
    "# Introducción a Python"
   ]
  },
  {
   "cell_type": "markdown",
   "id": "bd8e57a1",
   "metadata": {},
   "source": [
    "### Lenguajes de programación:\n",
    "Objetivo: traducir algo entendible en ristras de 1 y 0 (_lenguaje máquina_). Un lenguaje de programación es un set de sintaxis, reglas y especificaciones sobre cómo hacer este proceso.\n",
    "Es común usar como sinónimos los _lenguajes de programación_, que no son más que esas especificaciones, y su _implementación_, que es el programa (compilador o intérprete) que lleva adelante ese proceso.\n",
    "\n",
    "#### Lenguajes interpretados vs lenguajes compilados\n",
    "Imaginemos que tenemos que dar una charla en japonés. Tenemos dos opciones: pasarle la charla antes a un traductor (compilador) y que la traduzca entera, o tener un intérprete, que la traduce en simultáneo.\n",
    "\n",
    "Compilados: C, Fortran, C++, Rust, Java, Typescript, etc.\n",
    "Interpretados: Python, R, Ruby, MATLAB, etc.\n",
    "\n",
    "(algo medio intermedio: Javascript, Julia)\n",
    "\n",
    "#### Nociones bases\n",
    "**tipos**: Cada dato tiene asociado un _tipo_. Los tipos más básicos son: enteros (int), números con coma (float), booleanos (True o False), tiras de caracteres (string). Aparte, hay otros tipos como listas, tuplas, vectores, etc.\n",
    "\n",
    "En Python, los tipos son dinámicos (pueden cambiar) y se asignan solos.\n",
    "\n",
    "\n",
    "_Nota_: Todos los lenguajes tienen alguna forma de agregar _comentarios_, es decir, algo que el compilador/intérprete ignoran, pero hace más fácil entender el código. En Python, agregamos comentarios de una línea con #.\n",
    "Podemos agregar comentarios de múltiples líneas rodéandolos con tres comillas.\n",
    "\n",
    "## Variables\n",
    "\n",
    "Son _cajas_ donde se guarda algo en memoria. En Python (como en la mayoría de los lenguajes) se asignan con un símbolo de \"=\". OJO: no comparan, asignan. Para comparar, usamos \"==\""
   ]
  },
  {
   "cell_type": "code",
   "execution_count": null,
   "id": "b2ded1ab",
   "metadata": {},
   "outputs": [],
   "source": [
    "# Para analizar un tipo, usamos la función type\n",
    "\n",
    "print(type(2))"
   ]
  },
  {
   "cell_type": "code",
   "execution_count": null,
   "id": "4ccca2c1",
   "metadata": {},
   "outputs": [],
   "source": [
    "print(type(2.))"
   ]
  },
  {
   "cell_type": "code",
   "execution_count": null,
   "id": "137eb1ce",
   "metadata": {},
   "outputs": [],
   "source": [
    "print(type(\"2\"))"
   ]
  },
  {
   "cell_type": "code",
   "execution_count": null,
   "id": "2faa9e63",
   "metadata": {},
   "outputs": [],
   "source": [
    "print(type([2, 2]))"
   ]
  },
  {
   "cell_type": "code",
   "execution_count": null,
   "id": "ba7ea7f5-4948-41cd-ae6f-706c15cdd8a3",
   "metadata": {},
   "outputs": [],
   "source": [
    "print(type(True))"
   ]
  },
  {
   "cell_type": "code",
   "execution_count": null,
   "id": "779f1a67",
   "metadata": {},
   "outputs": [],
   "source": [
    "print(2 == 2)"
   ]
  },
  {
   "cell_type": "code",
   "execution_count": null,
   "id": "5c739340",
   "metadata": {},
   "outputs": [],
   "source": [
    "print(2 == 3)"
   ]
  },
  {
   "cell_type": "markdown",
   "id": "9f04b999",
   "metadata": {},
   "source": [
    "Cada tipo se comporta distinto"
   ]
  },
  {
   "cell_type": "code",
   "execution_count": null,
   "id": "bdac7b3f",
   "metadata": {},
   "outputs": [],
   "source": [
    "print(2 + 2)"
   ]
  },
  {
   "cell_type": "code",
   "execution_count": null,
   "id": "36405fd4",
   "metadata": {},
   "outputs": [],
   "source": [
    "print(2. + 2.)"
   ]
  },
  {
   "cell_type": "code",
   "execution_count": null,
   "id": "a4634860",
   "metadata": {},
   "outputs": [],
   "source": [
    "print(\"2\" + \"2\")"
   ]
  },
  {
   "cell_type": "code",
   "execution_count": null,
   "id": "12bdbe50",
   "metadata": {},
   "outputs": [],
   "source": [
    "print([2] + [2])"
   ]
  },
  {
   "cell_type": "code",
   "execution_count": null,
   "id": "b8eb04ad",
   "metadata": {},
   "outputs": [],
   "source": [
    "x = 2\n",
    "y = 3\n",
    "\n",
    "print(x == y)\n",
    "print(x != y) # != es el símbolo para \"distinto\""
   ]
  },
  {
   "cell_type": "markdown",
   "id": "b844cd2f-e698-4bbe-a48d-2567278c4fd6",
   "metadata": {},
   "source": [
    "OJO con mezclar tipos de datos"
   ]
  },
  {
   "cell_type": "code",
   "execution_count": null,
   "id": "670d2b92-d89f-4bab-8af7-a198b033123a",
   "metadata": {},
   "outputs": [],
   "source": [
    "#\"2\" + 2\n",
    "#\"2\" * 2\n",
    "#\"2\" * \"2\""
   ]
  },
  {
   "cell_type": "markdown",
   "id": "7db57a8b",
   "metadata": {},
   "source": [
    "OJO, no confundir = con =="
   ]
  },
  {
   "cell_type": "code",
   "execution_count": null,
   "id": "99193e13",
   "metadata": {},
   "outputs": [],
   "source": [
    "x = 2\n",
    "y = 3\n",
    "\n",
    "x == y"
   ]
  },
  {
   "cell_type": "code",
   "execution_count": null,
   "id": "3609ca29",
   "metadata": {},
   "outputs": [],
   "source": [
    "x = y\n",
    "x == y"
   ]
  },
  {
   "cell_type": "markdown",
   "id": "eb5094ec",
   "metadata": {},
   "source": [
    "##### Operaciones básicas de números\n",
    "\n",
    "Suma \"+\"  \n",
    "Resta \"-\"\n",
    "Multiplicación \"\\*\"\n",
    "División flotante \"/\"\n",
    "División entera \"//\"\n",
    "Módulo (el resto que queda de una división entera) \"%\"\n",
    "Potencia \"\\*\\*\"\n"
   ]
  },
  {
   "cell_type": "code",
   "execution_count": null,
   "id": "22102eb9",
   "metadata": {},
   "outputs": [],
   "source": [
    "x = 10\n",
    "y = 3\n",
    "\n",
    "print(\" x+y = \", x+y)\n",
    "print(\" x-y = \", x-y)\n",
    "print(\" x*y = \", x*y)\n",
    "print(\" x/y = \", x/y)\n",
    "print(\"x//y = \", x//y)\n",
    "print(\" x%y = \", x%y)\n",
    "print(\"x**y = \", x**y)\n",
    "\n",
    "print(\"\\n\\nLos flotantes en la computadora se representan de forma medio particular\\n\" +\n",
    "      \"lo que puede llevar a algunas cosas locas\")\n",
    "print(\"0.1 + 0.2 = \", 0.1 + 0.2)"
   ]
  },
  {
   "cell_type": "markdown",
   "id": "24a8d15a-8cbd-4c01-9b79-d54f829e3001",
   "metadata": {},
   "source": [
    "## "
   ]
  },
  {
   "cell_type": "markdown",
   "id": "0cd23f69-70b0-4366-afe5-d9740129162c",
   "metadata": {},
   "source": [
    "## Agrupar\n",
    "\n",
    "En muchos lenguajes, se agrupa con {}. En Python, en cambio, se agrupa con la indentación\n",
    "\n",
    "Por ejemplo (vamos a ver qué es una función después)\n",
    "\n",
    "**def** funcion1():  \n",
    "&emsp; &ensp;    accion 1    \n",
    "&emsp; &ensp;    accion 2    \n",
    "\n",
    "La acción 1 y la acción 2 están en funcion1\n",
    "\n",
    "**def** funcion2():  \n",
    "&emsp; &ensp; accion1  \n",
    "accion2\n",
    "\n",
    "sólo la acción 1 está adentro de la funcion2"
   ]
  },
  {
   "cell_type": "markdown",
   "id": "9ed18730",
   "metadata": {},
   "source": [
    "## Condiciones\n",
    "Hacen algo _si_ se cumple una condición.\n",
    "\n",
    "En Python, se hacen con \n",
    "\n",
    "**if** condicion1:  \n",
    "&emsp; &ensp;    accion 1  \n",
    "**elif** condicion2:  \n",
    "&emsp;  accion 2  \n",
    "**elif** condicion3:  \n",
    "&emsp;  accion 3  \n",
    "**else**:  \n",
    "&emsp;  accion 4  \n",
    "    \n"
   ]
  },
  {
   "cell_type": "code",
   "execution_count": null,
   "id": "0f422c0e",
   "metadata": {},
   "outputs": [],
   "source": [
    "x = 2\n",
    "\n",
    "if x == 2:\n",
    "    print(\"x es 2, entró el primer if\")\n",
    "\n",
    "print(\"\\n\\n+++++++++\\n\\n\") #\\n es un \"enter\"\n",
    "if x == 3:\n",
    "    print(\"x no es 2\")\n",
    "else:\n",
    "    print(\"no entró el if\")\n",
    "    print(\"x es\", x)  # Hay formas más piolas de usar el print"
   ]
  },
  {
   "cell_type": "markdown",
   "id": "5dadd41a",
   "metadata": {},
   "source": [
    "## Loops\n",
    "Un loop es algo que itera sobre algo. Python es famosamente **lento** para ejecutar loops. Hay dos tipios clásicos de loop:\n",
    "#### for\n",
    "Itera sobre valores predeterminados (iterables):"
   ]
  },
  {
   "cell_type": "code",
   "execution_count": null,
   "id": "7cd7bcdf",
   "metadata": {},
   "outputs": [],
   "source": [
    "for i in range(10):\n",
    "    print(i)"
   ]
  },
  {
   "cell_type": "markdown",
   "id": "1b909b01",
   "metadata": {},
   "source": [
    "#### while\n",
    "Itera siempre que se cumpa una condición (OJO: riesgo de loop infinito si la condición se cumple siempre)"
   ]
  },
  {
   "cell_type": "code",
   "execution_count": null,
   "id": "8764a9fe",
   "metadata": {},
   "outputs": [],
   "source": [
    "i = 0\n",
    "while i < 10:\n",
    "    print(i)\n",
    "    i = i+1"
   ]
  },
  {
   "cell_type": "code",
   "execution_count": null,
   "id": "2abf137b-9fb0-407d-8b0e-f6c635fbd36a",
   "metadata": {},
   "outputs": [],
   "source": [
    "# Podría hacer algo más loco\n",
    "# ATENCIÓN: ESTO ES CÓDIGO PÉSIMO, SOLO ESTÁ PARA EJEMPLIFICAR\n",
    "a = True\n",
    "i = 0\n",
    "while a:\n",
    "    print(i)\n",
    "    i = i + 1\n",
    "    if i >= 10:\n",
    "        a = False\n",
    "    "
   ]
  },
  {
   "cell_type": "markdown",
   "id": "595b1157-9e52-45ef-b239-2f8d11c29ebd",
   "metadata": {},
   "source": [
    "## Funciones\n",
    "\n",
    "En general, todos los lenguajes permiten utilizar **funciones**. Las funciones son una serie de operaciones que se abstraen para simplificar el código. Acá estuvimos, ya, usando funciones. Las funciones _siempre_ se indican con ().\n",
    "print(), por ejemplo, está entendiendo qué es lo que le damos, y copiándolo al standard output.\n",
    "type() identifica el tipo de un dato.\n",
    "\n",
    "En Python, las funciones se definen con **def** . Se devuelve algo con **return**."
   ]
  },
  {
   "cell_type": "code",
   "execution_count": null,
   "id": "c9f5c802",
   "metadata": {},
   "outputs": [],
   "source": [
    "def suma_2_y_divide_por_3(x):\n",
    "    return (x + 2) / 3\n",
    "\n",
    "print(suma_2_y_divide_por_3(10))"
   ]
  },
  {
   "cell_type": "code",
   "execution_count": null,
   "id": "3d9a8e5d",
   "metadata": {},
   "outputs": [],
   "source": [
    "def imprimir_triangulo_pascal():\n",
    "    print(\"         1        \")\n",
    "    print(\"       1   1      \")\n",
    "    print(\"     1   2   1    \")\n",
    "    print(\"   1   3   3   1  \")\n",
    "    print(\" 1   4   6   4   1\")\n",
    "\n",
    "imprimir_triangulo_pascal()"
   ]
  },
  {
   "cell_type": "markdown",
   "id": "85c55499",
   "metadata": {},
   "source": [
    "### Tipos iterables: Listas y tuplas\n",
    "\n",
    "**lista**: una colección de objetos. Es _mutable_ (se puede cambiar).\n",
    "\n",
    "**tupla**: más o menos lo mismo, pero _inmutable_.\n",
    "\n",
    "\n",
    "#### Indexación\n",
    "Los índices se indican con un []\n",
    "\n",
    "Se puede indicar un rango como [inic: final+1]\n",
    "\n",
    "**OJO**: Python cuenta desde 0, y llega hasta el valor anteúltimo.   \n",
    "En una lista, por ejemplo, el primer valor será lista[0]"
   ]
  },
  {
   "cell_type": "code",
   "execution_count": null,
   "id": "b1ea1705",
   "metadata": {},
   "outputs": [],
   "source": [
    "lista_de_enteros = [0, 1, 2, 3, 4]\n",
    "print(lista_de_enteros)\n",
    "lista_de_enteros[1] = 10  # fijense que lista_de_enteros[1] es el SEGUNDO valor\n",
    "print(lista_de_enteros)\n",
    "\n",
    "print(lista_de_enteros[0:2]) # Equivalente: lista_de_enteros[:2]"
   ]
  },
  {
   "cell_type": "markdown",
   "id": "aaaad5e0-62bb-402a-a1da-d522583bfe1c",
   "metadata": {},
   "source": [
    "Intentemos lo mismo con una tupla: \n",
    "- ¿Qué pasa?\n",
    "- ¿Cómo se lee un error?"
   ]
  },
  {
   "cell_type": "code",
   "execution_count": null,
   "id": "3694b4a6",
   "metadata": {},
   "outputs": [],
   "source": [
    "print(\"\\n\")\n",
    "tupla_de_enteros = (0, 1, 2, 3, 4)\n",
    "print(tupla_de_enteros)\n",
    "tupla_de_enteros[1] = 10\n",
    "print(tupla_de_enteros)"
   ]
  },
  {
   "cell_type": "markdown",
   "id": "bd6ae0c8-70c2-4698-b9d3-903c24c65be4",
   "metadata": {},
   "source": [
    "### Diccionarios\n",
    "\n",
    "Un diccionario es un tipo de dato en el que cada data se accede a través de una etiqueta en vez de una posición (conceptualmente, son datos \"hasheables\").\n",
    "\n",
    "En Python, la forma _por default_ para declarar diccionarios es con llaves ({}), aunque si a alguien le confunden se puede declarar con la función dict().\n",
    "\n",
    "Puede contener cualquier tipo de datos, incluidas listas o tuplas o, incluso, diccionarios de diccionarios."
   ]
  },
  {
   "cell_type": "code",
   "execution_count": null,
   "id": "16703955-fab7-4c32-a9a9-9a80b846a736",
   "metadata": {},
   "outputs": [],
   "source": [
    "pinguinos = {\n",
    "    \"Sudamerica\": [\"Magallanes\", \"Humboldt\", \"Galapagos\"],\n",
    "    \"Africa\": [\"Anteojos\"],\n",
    "    \"Antartida\": [\"Emperador\", \"Adelia\",],\n",
    "    \"Islas_australes\": [\"Rey\", \"Saltarrocas austral\", \"Macaroni\", \"Azul\", \"Barbijo\", \"Papúa\"],\n",
    "    \"Oceania\": [\"Fiordland\", \"Snares\", \"Real\", \"Sclater\", \"Patas blancas\", \"Ojigualdo\",],\n",
    "}\n",
    "print(pinguinos.keys())\n",
    "print()\n",
    "print(pinguinos)  # Mostrar qué cambia con display\n",
    "print()\n",
    "print(pinguinos[\"Sudamerica\"])\n",
    "print()\n",
    "print(pinguinos[\"Sudamerica\"][0])\n",
    "\n"
   ]
  },
  {
   "cell_type": "markdown",
   "id": "3230473d",
   "metadata": {},
   "source": [
    "## Métodos\n",
    "\n",
    "En primera aproximación, vamos a llamar métodos a funciones internas de un tipo (o, estrictamente, clase).\n",
    "\n",
    "Se indican con un \".\""
   ]
  },
  {
   "cell_type": "code",
   "execution_count": null,
   "id": "a6b29997",
   "metadata": {},
   "outputs": [],
   "source": [
    "# Ejemplo, append, opera inplace\n",
    "\n",
    "lista_de_enteros = [0, 1, 2, 3, 4]\n",
    "print(lista_de_enteros)\n",
    "\n",
    "lista_de_enteros.append(5)\n",
    "\n",
    "print(lista_de_enteros)"
   ]
  },
  {
   "cell_type": "code",
   "execution_count": null,
   "id": "d00efe08",
   "metadata": {},
   "outputs": [],
   "source": [
    "#Ejemplo, replace, opera por fuera\n",
    "\n",
    "hello_world = \"hola mundo\"\n",
    "print(hello_world)\n",
    "\n",
    "hello_world = hello_world.replace(\"o\", \"^_^\")\n",
    "print(hello_world)"
   ]
  },
  {
   "cell_type": "markdown",
   "id": "0b2144df",
   "metadata": {},
   "source": [
    "## Módulos\n",
    "\n",
    "Son programas (en general, en C o en Python) o conjuntos de funciones/clases que se pueden _importar_.\n",
    "Podemos crearlos nosotros o importar cosas preexistentes.\n",
    "\n",
    "Nos van a importar sobre todo tres (hay UN MONTÓN): numpy, matplotlib y pandas.\n",
    "\n",
    "Se importan como \"import ...\"\n",
    "\n",
    "### Numpy: operaciones matemáticas y vectores altamente eficientes\n",
    "Tiene precargadas una gran cantidad de operaciones. Su fama se debe a la capacidad de trabajar con matrices/vectores (en jerga, \"numpy arrays\"). Documentación: https://numpy.org/"
   ]
  },
  {
   "cell_type": "code",
   "execution_count": null,
   "id": "9f927d51",
   "metadata": {},
   "outputs": [],
   "source": [
    "import numpy as np\n",
    "\n",
    "x = 5\n",
    "raiz_x = np.sqrt(5)\n",
    "print(raiz_x)"
   ]
  },
  {
   "cell_type": "code",
   "execution_count": null,
   "id": "e80a2262",
   "metadata": {},
   "outputs": [],
   "source": [
    "# Nuestro primer numpy array\n",
    "lista_de_enteros = [0, 1, 2, 3, 4]\n",
    "array_de_enteros = np.array(lista_de_enteros)\n",
    "\n",
    "raiz_array_enteros = np.sqrt(array_de_enteros)\n",
    "print(raiz_array_enteros) # Esto no anda sobre una lista\n",
    "\n",
    "print(\"\\n\")\n",
    "matriz = np.array([\n",
    "    [0, 1, 2],\n",
    "    [3, 4, 5],\n",
    "    [6, 7, 8]\n",
    "])\n",
    "\n",
    "print(\"matriz\")\n",
    "print(matriz)\n",
    "print(\"\\n\")\n",
    "\n",
    "print(\"matriz transpuesta\")\n",
    "print(matriz.T)\n"
   ]
  },
  {
   "cell_type": "markdown",
   "id": "a9f782ce",
   "metadata": {},
   "source": [
    "### Matplotlib: Cómo graficar\n",
    "\n",
    "Vamos a una librería bastante más compleja: matplotlib. Se basa en la idea de crear figuras, dentro de las cuáles se crean ejes que tienen propiedades. Vamos a ver los casos más simples. Para más detalle, ir a https://matplotlib.org/ .\n",
    "\n",
    "RECOMENDACIÓN: Para mirar:\n",
    "1. Notación de objetos en matplotlib (plt.axes, plt.figure, etc.).\n",
    "2. Otras librerías para graficar (seaborn, hvplot, altair, etc.).\n",
    "3. Librerías para mapas: cartopy."
   ]
  },
  {
   "cell_type": "code",
   "execution_count": null,
   "id": "cc716a88",
   "metadata": {},
   "outputs": [],
   "source": [
    "# Creemos primero ristras de datos\n",
    "\n",
    "import numpy as np  # En realidad, ya lo importamos antes, y no hace falta hacerlo de nuevo\n",
    "import matplotlib.pyplot as plt\n",
    "\n",
    "x = np.arange(0, 1, 0.1) # Crea un array que va de 0 a 0.9, cada 0.1\n",
    "\n",
    "y = x ** 2\n",
    "y2 = x * y\n",
    "y3 = np.sqrt(x)\n",
    "plt.plot(x, y, 'o', label=\"datos cuadráticos\")\n",
    "plt.plot(x, y2, '^-', label=\"datos lineales\")\n",
    "plt.plot(x, y3, 'x:', label=\"datos raíz\")\n",
    "plt.xlabel(\"Eje x\")\n",
    "plt.ylabel(\"Eje y\")\n",
    "plt.legend()\n",
    "plt.show()"
   ]
  },
  {
   "cell_type": "markdown",
   "id": "092847f0-7116-4cd6-bb29-c20e9a3a6222",
   "metadata": {},
   "source": [
    "#### Object notation\n",
    "Es muy común, en vez de usar plt.plot, definir una \"figura\", definir \"ejes\" y trabajar sobre eso. Repitamos el gráfico de arriba.\n",
    "\n",
    "No voy a entrar en detalles, por ahora créanme que es más flexible, dado que **ax** y **fig** tienen su propia serie de métodos.\n",
    "\n",
    "#### Un brevísimo comentario sobre los objetos\n",
    "\n",
    "No vamos a entrar en detalles sobre qué es o no un objeto en computación. Como primera aproximación, podemos pensarlo como un \"tipo\" de datos, que tiene una serie de características, atributos y métodos (i. e., _funciones_) que le son propios. Un ejemplo simple de objeto son todos los tipos de datos que vimos al principio."
   ]
  },
  {
   "cell_type": "code",
   "execution_count": null,
   "id": "e8bb1e15-e68d-4227-9609-93b525e813ab",
   "metadata": {},
   "outputs": [],
   "source": [
    "fig, ax = plt.subplots()\n",
    "ax.plot(x, y, 'o', label=\"datos cuadráticos\")\n",
    "ax.plot(x, y2, '^-', label=\"datos lineales\")\n",
    "ax.plot(x, y3, 'x:', label=\"datos raíz\")\n",
    "ax.set_xlabel(\"Eje x\")\n",
    "ax.set_ylabel(\"Eje y\")\n",
    "ax.legend()\n",
    "plt.show()"
   ]
  },
  {
   "cell_type": "markdown",
   "id": "b361685f-5b78-492a-9dfd-99c124f16d94",
   "metadata": {},
   "source": [
    "<span style=\"color:red\">\n",
    "\n",
    "### Tarea para el hogar\n",
    "\n",
    "- Explorar los tipos de gráfico en **matplotlib**\n",
    "- Hacer un multiplot con 4 gráficos (dos en cada fila)\n",
    "</span>"
   ]
  },
  {
   "cell_type": "markdown",
   "id": "a08f852c",
   "metadata": {},
   "source": [
    "### Por último, pandas\n",
    "\n",
    "Permite trabajar con planillas de cálculo o csv (puede incluso leer excel).  \n",
    "Se integra muy bien con numpy y matplotlib\n",
    "Se basa en un objeto llamado \"DataFrame\", que es como una hoja de cálculo. Recomiendo la lecutra de https://pandas.pydata.org/docs/getting_started/index.html"
   ]
  },
  {
   "cell_type": "code",
   "execution_count": null,
   "id": "4ec7eb57",
   "metadata": {},
   "outputs": [],
   "source": [
    "#import pandas as pd\n",
    "import numpy as np\n",
    "import pandas as pd"
   ]
  },
  {
   "cell_type": "markdown",
   "id": "449c3233-bffd-4f86-b422-38ebc7df70c4",
   "metadata": {},
   "source": [
    "#### Objetos principales\n",
    "\n",
    "- pd.Series: es un array de objetos 1D de cualquier tipo\n",
    "- pd.Dataframe: es una estructura de datos 2D, conceptualmente una tabla de doble entrada. Cada columna es un pd.Series."
   ]
  },
  {
   "cell_type": "markdown",
   "id": "45653049-c447-4520-a220-4358f665f15a",
   "metadata": {},
   "source": [
    "##### Para trabajar\n",
    "Lo más común es leer directamente un archivo csv o una hoja de Excel. Sin embargo, para entender lo que se hace, vamos a empezar creando algunos objetos a mano."
   ]
  },
  {
   "cell_type": "code",
   "execution_count": null,
   "id": "c7bfedee-02c6-4d42-841e-3239d3cc1b97",
   "metadata": {},
   "outputs": [],
   "source": [
    "dates = pd.date_range(\"20150101\", periods=50)\n",
    "print(dates)\n",
    "# Ejemplo, convirtamos una matriz en un dataframe\n",
    "matriz = np.random.randn(50, 4)\n",
    "print()\n",
    "print(matriz)\n",
    "print()\n",
    "df = pd.DataFrame(matriz, index=dates, columns=list(\"ABCD\"))\n",
    "print(df)"
   ]
  },
  {
   "cell_type": "markdown",
   "id": "c0d688cf-9726-4937-afc3-5caceffdb1c9",
   "metadata": {},
   "source": [
    "**Funciones básicas**"
   ]
  },
  {
   "cell_type": "code",
   "execution_count": null,
   "id": "07f7052c-aed7-4b9f-9f94-64f7aba86ddf",
   "metadata": {},
   "outputs": [],
   "source": [
    "print(df.describe())"
   ]
  },
  {
   "cell_type": "code",
   "execution_count": null,
   "id": "12f995d1-6b8c-4291-99d9-b3029f00d291",
   "metadata": {},
   "outputs": [],
   "source": [
    "print(df)\n",
    "print(\"\\nTranspuesta\")\n",
    "print(df.T)"
   ]
  },
  {
   "cell_type": "code",
   "execution_count": null,
   "id": "6c1e3369-a08f-42d5-a3a9-b4459339197e",
   "metadata": {},
   "outputs": [],
   "source": [
    "df.plot(style='o:') # Usa matplotlib, y se puede tunear con eso muchísimo."
   ]
  },
  {
   "cell_type": "markdown",
   "id": "88163e3f-099f-4c97-b5ae-a997b9850577",
   "metadata": {},
   "source": [
    "### Mapeo básico con Cartopy\n",
    "\n",
    "Supongamos que queremos hacer un mapa. La librería por excelencia para esto es **cartopy**, que funciona muy bien en conjunto con matplotlib (y con las otras librerías de visualización que vamos a ver).\n",
    "\n",
    "La documentación no tiene, en este caso, un hermoso \"10 minutes to...\" o ese tipo de cosas, pero es bastante completa y recomiendo mirarla."
   ]
  },
  {
   "cell_type": "code",
   "execution_count": null,
   "id": "bb1401e9-78ac-48f5-8deb-e26caeb36c62",
   "metadata": {},
   "outputs": [],
   "source": [
    "import cartopy.crs as ccrs\n",
    "\n",
    "\n",
    "\n",
    "ax = plt.axes(projection=ccrs.Mollweide(central_longitude=-100)) # PlateCarree es la típica proyección lat-lon\n",
    "\n",
    "ax.stock_img()\n",
    "ax.coastlines()\n",
    "ax.gridlines()\n",
    "\n",
    "plt.show()"
   ]
  },
  {
   "cell_type": "code",
   "execution_count": null,
   "id": "35c6f586-f45d-4b5d-8cf4-0a5292e5a3f3",
   "metadata": {},
   "outputs": [],
   "source": [
    "import cartopy.feature as cfeature\n",
    "#ax = plt.axes(projection=ccrs.Orthographic(central_longitude=-65, central_latitude=-20)) # PlateCarree es la típica proyección lat-lon\n",
    "ax = plt.axes(projection=ccrs.Mollweide(central_longitude=-65)) # PlateCarree es la típica proyección lat-lon\n",
    "\n",
    "ax.stock_img()\n",
    "ax.coastlines()\n",
    "#ax.coastlines(color='green')\n",
    "ax.gridlines()\n",
    "#ax.add_feature(cfeature.BORDERS)\n",
    "ax.add_feature(cfeature.BORDERS, linestyle='-', edgecolor='gray')\n",
    "#ax.tissot(facecolor='orange', alpha=0.4)\n",
    "\n",
    "plt.show()"
   ]
  },
  {
   "cell_type": "code",
   "execution_count": null,
   "id": "915655e4-3041-4f10-ad74-0d40cb354ae1",
   "metadata": {},
   "outputs": [],
   "source": [
    "import cartopy.feature as cfeature\n",
    "\n",
    "# Imaginemos que tenemos valores de algo en puntos. Se puede aplicar todo lo de matplotlib\n",
    "\n",
    "lons = np.array([-56, -58, -62, -64, -62, -50])\n",
    "lats = np.array([-32, -30, -34, -37, -31, -10])\n",
    "variable_muyimportante = np.array([1, 2, 3, 4, 5, 4])\n",
    "\n",
    "\n",
    "#ax = plt.axes(projection=ccrs.Orthographic(central_longitude=-65, central_latitude=-20)) # PlateCarree es la típica proyección lat-lon\n",
    "ax = plt.axes(projection=ccrs.Mollweide(central_longitude=-65)) # PlateCarree es la típica proyección lat-lon\n",
    "\n",
    "#ax.stock_img()\n",
    "ax.coastlines()\n",
    "ax.gridlines()\n",
    "ax.add_feature(cfeature.BORDERS, linestyle='-', edgecolor='gray')\n",
    "\n",
    "ax.set_extent([-100, -30, -58, 15])  #[x0, x1, y0, y1]\n",
    "\n",
    "scatter = ax.scatter(\n",
    "    lons, lats,\n",
    "    transform=ccrs.PlateCarree(), # Transform indica en qué proyección están mis datos. Si los tengo en latitud y longitud, es PlateCarre().\n",
    "    marker='o', c=variable_muyimportante, cmap='magma', linewidth=1, edgecolors='k', # s=variable_muyimportante * 10\n",
    ")\n",
    "plt.colorbar(scatter, label=\"VIV (variable muy importante)\") # Hay formas mejores de hacer esto partiendo de definir una figura, pero son un poco más complejas\n",
    "\n",
    "plt.show()"
   ]
  },
  {
   "cell_type": "markdown",
   "id": "3dc9aa64-7cba-4000-888a-55e56e0f306a",
   "metadata": {},
   "source": [
    "<span style=\"color:Red\">  \n",
    "    \n",
    "### Tarea para el hogar (bastante más difícil)\n",
    "\n",
    "Tomá un set de datos de los ejemplos de la documentación (o cualquier otro que tengas) y mapeá con cartopy y matplotlib:\n",
    "- Un set de datos continuo con pcolormesh\n",
    "- Un set de datos continuo con contourf\n",
    "- Vectores (por ejemplo, de viento)\n",
    "\n",
    "## Respondé\n",
    "- ¿Cuál es la diferencia entre pcolormesh y contourf?\n",
    "- ¿Puedo graficar vectores y un pcolormesh o contourf a la vez? ¿Cómo lo harías?\n",
    "</span>"
   ]
  },
  {
   "cell_type": "markdown",
   "id": "96df6746-06a3-4193-aca0-e21902edf207",
   "metadata": {},
   "source": [
    "### Visualización y exploración avanzada: hvPlot\n",
    "\n",
    "El paquete clásico de visualizaciones es **matplotlib**. Sin embargo, en los últimos años se desarrollaron una serie de paquetes alternativos, que buscan agregar funcionalidades o simplificar algunos tipos de gráficos.\n",
    "\n",
    "Algunos nombres conocidos que puede valer la pena revisar:  \n",
    "- **seaborn**: construye sobre **matplotlib**, está desarrollado para simplificar los gráficos estadísticos. Tiene _defaults_ claramente más lindos que **matplotlib**.\n",
    "- **bokeh**: basado en la \"gramática para gráficos\". Produce gráficos interactivos y es relativamente popular.\n",
    "- **hvPlot**: Librería de alto nivel, construida sobre **holoviews**, que está a su vez construida para funcionar sobre **bokeh** o **matplotlib**.\n",
    "- **plotly**: Es muy popular para aplicaciones web. Existe también para JavaScript. Es interactiva.\n",
    "- **plotnine**: Similar a la librería **ggplot** de R (implementación de la \"gramática de gráficos\". Todavía relativamente nueva, tiene algunas limitaciones.\n",
    "- **altair**: Librería declarativa. Nunca entendí bien sus ventajas pero hay gente a la que le gusta.\n",
    "\n",
    "#### Vamos a trabajar brevemente con hvPlot\n",
    "\n",
    "hvplot trabaja en base a \"accessors\", que están hechos para trabajar con el tipo de datos que uno quiera. Puede ser dataframes de pandas, geodataframes de GeoPandas (el pandas geográfico), xarray (una especie de pandas multidimensional, muy útil para datos en formato netCDF) y otros."
   ]
  },
  {
   "cell_type": "code",
   "execution_count": null,
   "id": "30380c49-007d-42f3-bcaf-2035f200857c",
   "metadata": {},
   "outputs": [],
   "source": [
    "import hvplot.pandas\n",
    "primer_plot = df.hvplot()\n",
    "primer_plot"
   ]
  },
  {
   "cell_type": "markdown",
   "id": "93ec86d2-521a-4726-bfc0-afd4a1eb7fdb",
   "metadata": {},
   "source": [
    "Se puede juntar plots, sumándolos.\n",
    "\n",
    "Para ver plots posibles, usar <\\<Tab>\\>"
   ]
  },
  {
   "cell_type": "code",
   "execution_count": null,
   "id": "da82cfa6-0f36-450a-8333-95bba3ef6a7d",
   "metadata": {},
   "outputs": [],
   "source": [
    "#Hagamos un plot doble\n",
    "plot1 = df[\"A\"].hvplot.area(alpha=0.2, color=\"purple\", width=400)\n",
    "plot2 = df[\"B\"].hvplot.line(width=400)\n",
    "\n",
    "plot1 + plot2"
   ]
  },
  {
   "cell_type": "code",
   "execution_count": null,
   "id": "ba331ed1-2b0b-4556-8e34-78aed04e30f5",
   "metadata": {},
   "outputs": [],
   "source": [
    "#Graficar las 2 cosas en el mismo plot con \"*\"\n",
    "plot1 * plot2"
   ]
  },
  {
   "cell_type": "markdown",
   "id": "9079aea7-14d8-442f-90cd-65eb44b282cb",
   "metadata": {},
   "source": [
    "##### Es muy útil, cuando recibimos un dato nuevo, la funcionalidad explorer.\n",
    "\n",
    "Vamos a usar el dataframe del tutorial de bokeh, sobre pingüinos"
   ]
  },
  {
   "cell_type": "code",
   "execution_count": null,
   "id": "9024eedb-782f-4ffc-83a2-8f40cdae1be3",
   "metadata": {},
   "outputs": [],
   "source": [
    "from bokeh.sampledata.penguins import data as df\n",
    "\n",
    "display(df)"
   ]
  },
  {
   "cell_type": "code",
   "execution_count": null,
   "id": "367a82a8-ccff-47b1-ab61-520e999a24ea",
   "metadata": {},
   "outputs": [],
   "source": [
    "df.describe()"
   ]
  },
  {
   "cell_type": "code",
   "execution_count": null,
   "id": "d4c9e9be-edd1-4c79-baa7-402d90c1765e",
   "metadata": {},
   "outputs": [],
   "source": [
    "explorer = df.hvplot.explorer(x='bill_length_mm', y='bill_depth_mm', by=['species'])\n",
    "explorer"
   ]
  },
  {
   "cell_type": "markdown",
   "id": "005d4ff8-59e9-49fb-bcdb-f84e9541f0ab",
   "metadata": {},
   "source": [
    "## Simplificando el trabajo con netCDF. Xarray y Dask (sólo si llegamos)\n",
    "\n",
    "Para trabajar con archivos netCDF, hay dos opciones básicas. Una, netCDF4, es de nivel relativamente bajo, y obliga a trabajar con los procesos internos de la estructura del archivo.\n",
    "\n",
    "Otra, xarray, es de nivel relativamente alto. Simplifica el trabajo general, a costa de, tal vez, un poco del contro.\n",
    "\n",
    "_Si me permiten la analogía, podemos pensar a netCDF4 como numpy, y a xarray como pandas_.\n",
    "\n",
    "Xarray funciona en base a dos clases: Dataset y DataArray. \n",
    "Siguiendo con la analogía, un Dataset es como un pd.DataFrame, y un DataArray es como un pd.Serie\n",
    "\n"
   ]
  },
  {
   "cell_type": "code",
   "execution_count": null,
   "id": "31d9df89-1254-4ffb-9c3a-e1d057ec6f71",
   "metadata": {},
   "outputs": [],
   "source": [
    "# El objeto básico de xarray es un DataArray. Podemos leerlo de un archivo o generarlo:\n",
    "import xarray as xr\n",
    "import numpy as np\n",
    "\n",
    "# Empecemos trabajando con un poco de datos de juguete\n",
    "\n",
    "ds: xr.Dataset = xr.tutorial.load_dataset(\"air_temperature\")\n",
    "display(ds)\n"
   ]
  },
  {
   "cell_type": "code",
   "execution_count": null,
   "id": "af6dd7c5-1a3d-4b8d-8193-b045e316f55e",
   "metadata": {},
   "outputs": [],
   "source": [
    "da: xr.DataArray = ds[\"air\"] # También se puede acceder como  ds.air\n",
    "display(da)"
   ]
  },
  {
   "cell_type": "code",
   "execution_count": null,
   "id": "e23a9924-17b3-429d-a65e-3581af3cba07",
   "metadata": {},
   "outputs": [],
   "source": [
    "display(ds[\"air\"].mean(dim=\"time\"))\n",
    "print(\"\\n\\n\")\n",
    "display(ds[\"air\"].mean(dim=[\"lat\", \"lon\"]))"
   ]
  },
  {
   "cell_type": "code",
   "execution_count": null,
   "id": "2111276a-6b6a-49f2-9a13-81b02e9284e0",
   "metadata": {},
   "outputs": [],
   "source": [
    "da_timelat00: xr.DataArray = da[0, 0, :]\n",
    "display(da_timelat00)"
   ]
  },
  {
   "cell_type": "code",
   "execution_count": null,
   "id": "ffdc1fb9-4b1d-41bb-aa93-e83e9d8c7bf0",
   "metadata": {},
   "outputs": [],
   "source": [
    "# Para acceder a los valores de un DataArray, podemos usar varias metodologías, cada una con ventajas y desventajas\n",
    "\n",
    "valores_timelat00: np.array = da.values[0,0,:] # Lo pasé a un np.array\n",
    "display(valores_timelat00)"
   ]
  },
  {
   "cell_type": "code",
   "execution_count": null,
   "id": "0a437a13-8aee-44c2-b6d5-e71b4b3ee1fa",
   "metadata": {},
   "outputs": [],
   "source": [
    "# Puedo usar sel para seleccionar por valor. Vale también el slicing, incluse con fechas\n",
    "da2 = da.sel(time=\"2013-01-01 00\", lat=75.)\n",
    "display(da2)\n",
    "\n",
    "print(\"\\n\")\n",
    "da2 = da.sel(time=slice(\"2013-01-01 00\", \"2013-01-02 00\"), lat=75.)\n",
    "display(da2)"
   ]
  },
  {
   "cell_type": "code",
   "execution_count": null,
   "id": "ff46aefa-cd48-4dfd-9e7c-9b2b8f152b96",
   "metadata": {},
   "outputs": [],
   "source": [
    "# Puedo usar isel para seleccionar por índice, pero sin preocuparme por el orden. Vale también el slicing\n",
    "da2 = da.isel(time=0, lat=slice(0, 5))\n",
    "\n",
    "display(da2)"
   ]
  },
  {
   "cell_type": "code",
   "execution_count": null,
   "id": "1aa7bebe-d620-4264-bce1-466af5a73789",
   "metadata": {},
   "outputs": [],
   "source": [
    "import hvplot.xarray\n",
    "import cartopy as crs\n",
    "hvexplorer = hvplot.explorer(ds, x='lon', y='lat', geo=True, cmap='inferno')\n",
    "hvexplorer.geographic.param.update(crs='PlateCarree', global_extent=True, projection=\"Robinson\", features=['coastline', 'borders'])\n",
    "hvexplorer\n"
   ]
  },
  {
   "cell_type": "markdown",
   "id": "77b96ff7-1f56-4233-bd0c-b619581d1919",
   "metadata": {},
   "source": [
    "---\n",
    "\n",
    "#### Como se imaginarán, andan todas las funciones clásicas, pero agregan la funcionalidad de elegir dimensiones sobre las que se calculan\n",
    "\n",
    "En general, andan tanto sobre un DataArray como sobre un Dataset (conceptualmente, un Dataset es un diccionario de DataArrays)."
   ]
  },
  {
   "cell_type": "markdown",
   "id": "9140ecd2-da50-447d-8a97-ecf939954d67",
   "metadata": {},
   "source": [
    "# Un poco de Python avanzado\n",
    "\n",
    "## Type Hints\n",
    "Permiten indicar el tipo de un dato. El intérprete _simplemente los ignora_, pero sirven para el debugger y el LSP, así como para documentar y simplificar el código. \n",
    "Se indica con \":\". Para la salida de funciones, se indican con \"->\".\n",
    "\n",
    "Por ejemplo\n",
    "\n",
    "i: int = 1  \n",
    "es lo mismo que  \n",
    "i = 1  \n",
    "\n",
    "Para una función, se usa como\n",
    "\n",
    "**def** round(a: int = 2, b: float) -> float:  \n",
    "&emsp; rounded: float = round(b, a)  \n",
    "&emsp; **return** rounded\n",
    "\n",
    "## numba\n",
    "Es un acelerador para ciertos tipos de código de Python (en algunos casos, varios órdenes de magnitud).\n",
    "\n",
    "Anda muy bien para loops si lo que está adentro es o bien **Python puro** o mezclado con **Numpy**.  \n",
    "NO anda bien si hay otros tipos.  \n",
    "Existen clases y paquetes que están acelerados mediante **numba**.\n",
    "\n",
    "Si bien tiene más de un modo de funcionar, vamos a ver el JIT.\n",
    "\n",
    "#### ¿Qué es un JIT?\n",
    "\n",
    "Es un Just in Time Compiler. A medida que se ejecuta el código, lo lee y lo compila, lo que lo puede acelerar sustancialmente.\n",
    "\n",
    "Eso implica que:\n",
    "- Las primeras vueltas del loop son más lentas, porque el JIT tiene que leer lo que pasa, entenderlo, y después compilar (se llama \"ramp up\").\n",
    "- Luego el loop se acelera sustancialmente. En algunos casos, algunos JIT pueden incluso superar en velocidad a lenguajes compilados, porque tienen más información respecto de cómo se ejecuta el código. Pasa a veces con JavaScript, que tiene un JIT muy desarrollado.\n",
    "- Numba funciona así: lee el bytecode generado por el intérprete de Python, y deduce los tipos y operaciones de la función. Después, usa LLVM para generar código máquina optimizado para la computadora en uso. NO lee los type hints.\n"
   ]
  },
  {
   "cell_type": "code",
   "execution_count": null,
   "id": "fc119463-cc62-4a4a-8509-fb05070ad0df",
   "metadata": {},
   "outputs": [],
   "source": [
    "import numba as nb\n",
    "from time import time"
   ]
  },
  {
   "cell_type": "code",
   "execution_count": null,
   "id": "53d1fe1e",
   "metadata": {},
   "outputs": [],
   "source": [
    "#import numba as nb\n",
    "\n",
    "def loop_test():\n",
    "    i = 1\n",
    "    for _ in range(int(1e9)):\n",
    "        i += 1\n",
    "    return i\n",
    "\n",
    "\n",
    "init = time()\n",
    "i = loop_test()\n",
    "end = time()\n",
    "\n",
    "print(end - init)\n",
    "print(i)\n",
    "\n",
    "# %timeit loop_test()"
   ]
  },
  {
   "cell_type": "code",
   "execution_count": null,
   "id": "21f1aa76",
   "metadata": {},
   "outputs": [],
   "source": [
    "@nb.jit(nopython=True)\n",
    "def loop_test():\n",
    "    i = 1\n",
    "    for _ in range(int(1e9)):\n",
    "        i += 1\n",
    "    return i\n",
    "\n",
    "\n",
    "init = time()\n",
    "i = loop_test()\n",
    "end = time()\n",
    "\n",
    "print(end - init)\n",
    "print(i)\n",
    "\n",
    "# %timeit loop_test()"
   ]
  }
 ],
 "metadata": {
  "kernelspec": {
   "display_name": "Python 3 (ipykernel)",
   "language": "python",
   "name": "python3"
  },
  "language_info": {
   "codemirror_mode": {
    "name": "ipython",
    "version": 3
   },
   "file_extension": ".py",
   "mimetype": "text/x-python",
   "name": "python",
   "nbconvert_exporter": "python",
   "pygments_lexer": "ipython3",
   "version": "3.12.2"
  }
 },
 "nbformat": 4,
 "nbformat_minor": 5
}
